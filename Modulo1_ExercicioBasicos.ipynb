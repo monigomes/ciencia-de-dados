{
  "nbformat": 4,
  "nbformat_minor": 0,
  "metadata": {
    "colab": {
      "provenance": [],
      "authorship_tag": "ABX9TyN22JFiRUfZP2W1b62jgDMi",
      "include_colab_link": true
    },
    "kernelspec": {
      "name": "python3",
      "display_name": "Python 3"
    },
    "language_info": {
      "name": "python"
    }
  },
  "cells": [
    {
      "cell_type": "markdown",
      "metadata": {
        "id": "view-in-github",
        "colab_type": "text"
      },
      "source": [
        "<a href=\"https://colab.research.google.com/github/monigomes/ciencias-de-dados/blob/main/Modulo1_ExercicioBasicos.ipynb\" target=\"_parent\"><img src=\"https://colab.research.google.com/assets/colab-badge.svg\" alt=\"Open In Colab\"/></a>"
      ]
    },
    {
      "cell_type": "markdown",
      "source": [
        "# Ciências de Dados - UFMS\n"
      ],
      "metadata": {
        "id": "0AvSNnaZtGx0"
      }
    },
    {
      "cell_type": "markdown",
      "source": [
        "## Módulo 1\n"
      ],
      "metadata": {
        "id": "eFZ8x1tXtdy1"
      }
    },
    {
      "cell_type": "markdown",
      "source": [
        "###Primeiro Código"
      ],
      "metadata": {
        "id": "-KZ2sf-Zt0ZW"
      }
    },
    {
      "cell_type": "code",
      "execution_count": null,
      "metadata": {
        "colab": {
          "base_uri": "https://localhost:8080/"
        },
        "id": "7JV71ZDGmmpc",
        "outputId": "d10fc64b-81fb-4319-c702-5fae5560434e"
      },
      "outputs": [
        {
          "output_type": "execute_result",
          "data": {
            "text/plain": [
              "[{'id': 0, 'nome': 'Hero'},\n",
              " {'id': 1, 'nome': 'Dunn'},\n",
              " {'id': 2, 'nome': 'Sue'},\n",
              " {'id': 3, 'nome': 'Chi'},\n",
              " {'id': 4, 'nome': 'Thor'},\n",
              " {'id': 5, 'nome': 'Clive'},\n",
              " {'id': 6, 'nome': 'Hicks'},\n",
              " {'id': 7, 'nome': 'Devin'},\n",
              " {'id': 8, 'nome': 'Kate'},\n",
              " {'id': 9, 'nome': 'Klein'}]"
            ]
          },
          "metadata": {},
          "execution_count": 3
        }
      ],
      "source": [
        "#usuários cientistas de dados\n",
        "\n",
        "usuarios = [\n",
        "    {\"id\": 0, \"nome\": \"Hero\"},\n",
        "    {\"id\": 1, \"nome\": \"Dunn\"},\n",
        "    {\"id\": 2, \"nome\": \"Sue\"},\n",
        "    {\"id\": 3, \"nome\": \"Chi\"},\n",
        "    {\"id\": 4, \"nome\": \"Thor\"},\n",
        "    {\"id\": 5, \"nome\": \"Clive\"},\n",
        "    {\"id\": 6, \"nome\": \"Hicks\"},\n",
        "    {\"id\": 7, \"nome\": \"Devin\"},\n",
        "    {\"id\": 8, \"nome\": \"Kate\"},\n",
        "    {\"id\": 9, \"nome\": \"Klein\"}\n",
        "]\n",
        "\n",
        "#demonstre a lista de usuários cadastrados\n",
        "usuarios"
      ]
    },
    {
      "cell_type": "code",
      "source": [
        "#pares de amizades\n",
        "pares_de_amizades = [(0,1), (0,2), (1,2), (1,3), (2,3), (3,4), (4,5), (5,6),\\\n",
        "                     (5,7), (6,8), (7,8), (8,9)]\n",
        "\n",
        "#demostre a lista de pares de amizades cadastrados\n",
        "pares_de_amizades"
      ],
      "metadata": {
        "colab": {
          "base_uri": "https://localhost:8080/"
        },
        "id": "OBhQkSgdopCG",
        "outputId": "0fa4f820-fde0-43ef-dcd3-640dea8fa14a"
      },
      "execution_count": null,
      "outputs": [
        {
          "output_type": "execute_result",
          "data": {
            "text/plain": [
              "[(0, 1),\n",
              " (0, 2),\n",
              " (1, 2),\n",
              " (1, 3),\n",
              " (2, 3),\n",
              " (3, 4),\n",
              " (4, 5),\n",
              " (5, 6),\n",
              " (5, 7),\n",
              " (6, 8),\n",
              " (7, 8),\n",
              " (8, 9)]"
            ]
          },
          "metadata": {},
          "execution_count": 4
        }
      ]
    },
    {
      "cell_type": "code",
      "source": [
        "#Inicialize o dict com uma lista vazia para cada id de usuário:\n",
        "amigos = {usuario[\"id\"]: [] for usuario in usuarios}\n",
        "\n",
        "#demonstre o dict criado\n",
        "amigos"
      ],
      "metadata": {
        "colab": {
          "base_uri": "https://localhost:8080/"
        },
        "id": "o3TIHARapbDO",
        "outputId": "6609a873-59c9-4a83-e325-af4c230d704e"
      },
      "execution_count": null,
      "outputs": [
        {
          "output_type": "execute_result",
          "data": {
            "text/plain": [
              "{0: [], 1: [], 2: [], 3: [], 4: [], 5: [], 6: [], 7: [], 8: [], 9: []}"
            ]
          },
          "metadata": {},
          "execution_count": 5
        }
      ]
    },
    {
      "cell_type": "code",
      "source": [
        "#Em seguida, execute um loop pelos pares de amigos para preenchê-la:\n",
        "for i, j in pares_de_amizades:\n",
        "  amigos[i].append(j) #adicione j como amigo do usuário i\n",
        "  amigos[j].append(i) #adicione i como amigo do usuário j\n",
        "\n",
        "#demonstre os pares de amigos criados\n",
        "amigos"
      ],
      "metadata": {
        "colab": {
          "base_uri": "https://localhost:8080/"
        },
        "id": "5w4O85jZp-a-",
        "outputId": "90c0a1d7-0296-4d1c-9826-5f100ef42a62"
      },
      "execution_count": null,
      "outputs": [
        {
          "output_type": "execute_result",
          "data": {
            "text/plain": [
              "{0: [1, 2],\n",
              " 1: [0, 2, 3],\n",
              " 2: [0, 1, 3],\n",
              " 3: [1, 2, 4],\n",
              " 4: [3, 5],\n",
              " 5: [4, 6, 7],\n",
              " 6: [5, 8],\n",
              " 7: [5, 8],\n",
              " 8: [6, 7, 9],\n",
              " 9: [8]}"
            ]
          },
          "metadata": {},
          "execution_count": 6
        }
      ]
    },
    {
      "cell_type": "code",
      "source": [
        "#Qual é o número médio de conexões?\n",
        "def numero_de_amigos(usuario):\n",
        "  \"\"\"Quantos amigos tem o _usuario_?\"\"\"\n",
        "  usuario_id = usuario[\"id\"]\n",
        "  amigo_ids = amigos[usuario_id]\n",
        "  return len(amigo_ids)\n",
        "\n",
        "total_conexoes = sum(numero_de_amigos(usuario) for usuario in usuarios)\n",
        "\n",
        "#demonstre o número de conexões\n",
        "total_conexoes"
      ],
      "metadata": {
        "colab": {
          "base_uri": "https://localhost:8080/"
        },
        "id": "ASJsm0FLqqcm",
        "outputId": "7af04760-93df-4cab-ba43-68543867f66e"
      },
      "execution_count": null,
      "outputs": [
        {
          "output_type": "execute_result",
          "data": {
            "text/plain": [
              "24"
            ]
          },
          "metadata": {},
          "execution_count": 7
        }
      ]
    },
    {
      "cell_type": "code",
      "source": [
        "#dividir o total de conexões pelo número de usuários\n",
        "num_usuarios = len(usuarios)\n",
        "avg_connections = total_conexoes / num_usuarios\n",
        "\n",
        "#demonstre a média de conexões\n",
        "avg_connections"
      ],
      "metadata": {
        "colab": {
          "base_uri": "https://localhost:8080/"
        },
        "id": "naJ748YErbbv",
        "outputId": "be4f4823-287b-4718-9132-bb10355308a4"
      },
      "execution_count": null,
      "outputs": [
        {
          "output_type": "execute_result",
          "data": {
            "text/plain": [
              "2.4"
            ]
          },
          "metadata": {},
          "execution_count": 8
        }
      ]
    },
    {
      "cell_type": "code",
      "source": [
        "#quais são as pessoas mais conectadas\n",
        "\n",
        "#crie uma lista (usuario_id, numero_de_amigos)\n",
        "num_amigos_por_id = [(usuario[\"id\"], numero_de_amigos(usuario)) for usuario in usuarios]\n",
        "\n",
        "#demonstrar quais são as pessoas mais conectadas (id, qtd)\n",
        "num_amigos_por_id"
      ],
      "metadata": {
        "colab": {
          "base_uri": "https://localhost:8080/"
        },
        "id": "g3lKlI5Yrvdd",
        "outputId": "6bcf49a0-2812-4b4f-fd7d-68018322c717"
      },
      "execution_count": null,
      "outputs": [
        {
          "output_type": "execute_result",
          "data": {
            "text/plain": [
              "[(0, 2),\n",
              " (1, 3),\n",
              " (2, 3),\n",
              " (3, 3),\n",
              " (4, 2),\n",
              " (5, 3),\n",
              " (6, 2),\n",
              " (7, 2),\n",
              " (8, 3),\n",
              " (9, 1)]"
            ]
          },
          "metadata": {},
          "execution_count": 9
        }
      ]
    },
    {
      "cell_type": "code",
      "source": [
        "#classificação da lista\n",
        "num_amigos_por_id.sort(\n",
        "    #por num_friends\n",
        "    key=lambda id_e_amigos: id_e_amigos[1],\n",
        "\n",
        "    #do maior para o menor\n",
        "    reverse=True)\n",
        "\n",
        "num_amigos_por_id"
      ],
      "metadata": {
        "colab": {
          "base_uri": "https://localhost:8080/"
        },
        "id": "Ln39OdPbsVsv",
        "outputId": "22fc54bd-7635-49ac-92fa-31358dcab4b5"
      },
      "execution_count": null,
      "outputs": [
        {
          "output_type": "execute_result",
          "data": {
            "text/plain": [
              "[(1, 3),\n",
              " (2, 3),\n",
              " (3, 3),\n",
              " (5, 3),\n",
              " (8, 3),\n",
              " (0, 2),\n",
              " (4, 2),\n",
              " (6, 2),\n",
              " (7, 2),\n",
              " (9, 1)]"
            ]
          },
          "metadata": {},
          "execution_count": 11
        }
      ]
    }
  ]
}